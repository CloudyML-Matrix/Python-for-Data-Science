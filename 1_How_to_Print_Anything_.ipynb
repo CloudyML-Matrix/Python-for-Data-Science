{
  "nbformat": 4,
  "nbformat_minor": 0,
  "metadata": {
    "colab": {
      "provenance": []
    },
    "kernelspec": {
      "name": "python3",
      "display_name": "Python 3"
    },
    "language_info": {
      "name": "python"
    }
  },
  "cells": [
    {
      "cell_type": "markdown",
      "source": [
        "**Code Snippet 1: How to Print Anything?**"
      ],
      "metadata": {
        "id": "pMoiPACcRGcj"
      }
    },
    {
      "cell_type": "markdown",
      "source": [
        "**value**"
      ],
      "metadata": {
        "id": "yY_Q3c82T1By"
      }
    },
    {
      "cell_type": "code",
      "execution_count": null,
      "metadata": {
        "colab": {
          "base_uri": "https://localhost:8080/"
        },
        "id": "qPoKfqypP0bZ",
        "outputId": "d3993290-97ff-4e67-87ef-ceada3754e75"
      },
      "outputs": [
        {
          "output_type": "stream",
          "name": "stdout",
          "text": [
            "Hello World!\n"
          ]
        }
      ],
      "source": [
        "# display the value Hello World!\n",
        "\n",
        "print('Hello World!')"
      ]
    },
    {
      "cell_type": "code",
      "source": [
        "# display the value Hello-CloudyML\n",
        "\n",
        "print(\"Hello-CloudyML\")"
      ],
      "metadata": {
        "colab": {
          "base_uri": "https://localhost:8080/"
        },
        "id": "Yf89oOnqRS_K",
        "outputId": "b2833fd9-141b-47a6-b95e-b7378bffafe7"
      },
      "execution_count": null,
      "outputs": [
        {
          "output_type": "stream",
          "name": "stdout",
          "text": [
            "Hello-CloudyML\n"
          ]
        }
      ]
    },
    {
      "cell_type": "markdown",
      "source": [
        "**separator(sep)**"
      ],
      "metadata": {
        "id": "i7owXJ8cTrlq"
      }
    },
    {
      "cell_type": "code",
      "source": [
        "# separator, sep = '-'\n",
        "\n",
        "print(\"Hello\", \"CloudyML\", sep = '-')"
      ],
      "metadata": {
        "colab": {
          "base_uri": "https://localhost:8080/"
        },
        "id": "Pu0eBhWtSTsi",
        "outputId": "08783f29-c81c-4c01-eaff-34beebf0c6cc"
      },
      "execution_count": null,
      "outputs": [
        {
          "output_type": "stream",
          "name": "stdout",
          "text": [
            "Hello-CloudyML\n"
          ]
        }
      ]
    },
    {
      "cell_type": "code",
      "source": [
        "# using tab in the separator\n",
        "\n",
        "print(\"Hello World\", \"CloudyML\", sep = '\\t')"
      ],
      "metadata": {
        "colab": {
          "base_uri": "https://localhost:8080/"
        },
        "id": "ug8sTmZUSq36",
        "outputId": "3f21aa35-560c-4431-b045-0bdc138dde1c"
      },
      "execution_count": null,
      "outputs": [
        {
          "output_type": "stream",
          "name": "stdout",
          "text": [
            "Hello World\tCloudyML\n"
          ]
        }
      ]
    },
    {
      "cell_type": "code",
      "source": [
        "# newline in separator\n",
        "\n",
        "print(\"Hello\", \"CloudyML\", sep = '\\n')"
      ],
      "metadata": {
        "colab": {
          "base_uri": "https://localhost:8080/"
        },
        "id": "R8PCh7uLStSq",
        "outputId": "e87c33b7-d2db-4524-cc16-3618b2ea22ea"
      },
      "execution_count": null,
      "outputs": [
        {
          "output_type": "stream",
          "name": "stdout",
          "text": [
            "Hello\n",
            "CloudyML\n"
          ]
        }
      ]
    },
    {
      "cell_type": "code",
      "source": [
        "# tab\n",
        "\n",
        "print('Hello \\t CloudyML')"
      ],
      "metadata": {
        "colab": {
          "base_uri": "https://localhost:8080/"
        },
        "id": "q0N0Ol-cRZ5S",
        "outputId": "234e2235-0052-4a01-ddde-1259fb244656"
      },
      "execution_count": null,
      "outputs": [
        {
          "output_type": "stream",
          "name": "stdout",
          "text": [
            "Hello \t CloudyML\n"
          ]
        }
      ]
    },
    {
      "cell_type": "markdown",
      "source": [
        "**end**"
      ],
      "metadata": {
        "id": "wME-R1jtTyzC"
      }
    },
    {
      "cell_type": "code",
      "source": [
        "# new line\n",
        "\n",
        "print(\"Hello\", \"CloudyML\", end = '\\n')\n",
        "print(\"CloudyML\")"
      ],
      "metadata": {
        "colab": {
          "base_uri": "https://localhost:8080/"
        },
        "id": "3uFtjr8XTQ-a",
        "outputId": "2ddca0cd-228f-45a6-e4f0-7ccf57b42767"
      },
      "execution_count": null,
      "outputs": [
        {
          "output_type": "stream",
          "name": "stdout",
          "text": [
            "Hello CloudyML\n",
            "CloudyML\n"
          ]
        }
      ]
    },
    {
      "cell_type": "code",
      "source": [
        "# tab\n",
        "\n",
        "print(\"Hello\", \"CloudyML\", end = '\\t')\n",
        "print(\"CloudyML\")"
      ],
      "metadata": {
        "colab": {
          "base_uri": "https://localhost:8080/"
        },
        "id": "jKHtEJRHTZ3L",
        "outputId": "a701721d-1d3e-4573-f3c9-0f5ab461a1e0"
      },
      "execution_count": null,
      "outputs": [
        {
          "output_type": "stream",
          "name": "stdout",
          "text": [
            "Hello CloudyML\tCloudyML\n"
          ]
        }
      ]
    },
    {
      "cell_type": "code",
      "source": [
        "# no continuation\n",
        "\n",
        "print(\"Hello\", \"CloudyML\", end = '\\b')\n",
        "print(\"CloudyML\")"
      ],
      "metadata": {
        "colab": {
          "base_uri": "https://localhost:8080/"
        },
        "id": "aPD-ZHZlTeoi",
        "outputId": "6ff44bb3-990b-4ebd-d5c1-c57ff6aacd8c"
      },
      "execution_count": null,
      "outputs": [
        {
          "output_type": "stream",
          "name": "stdout",
          "text": [
            "Hello CloudyML\bCloudyML\n"
          ]
        }
      ]
    },
    {
      "cell_type": "code",
      "source": [
        "print(\"Hello\", \"CloudyML\", end = ' ')"
      ],
      "metadata": {
        "colab": {
          "base_uri": "https://localhost:8080/"
        },
        "id": "2wMASzQfUQbi",
        "outputId": "17aa9056-5e1b-404d-b10b-3b02ea0edc3d"
      },
      "execution_count": null,
      "outputs": [
        {
          "output_type": "stream",
          "name": "stdout",
          "text": [
            "Hello CloudyML "
          ]
        }
      ]
    }
  ]
}