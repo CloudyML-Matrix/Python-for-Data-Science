{
  "nbformat": 4,
  "nbformat_minor": 0,
  "metadata": {
    "colab": {
      "provenance": []
    },
    "kernelspec": {
      "name": "python3",
      "display_name": "Python 3"
    },
    "language_info": {
      "name": "python"
    }
  },
  "cells": [
    {
      "cell_type": "markdown",
      "source": [
        "**Code Snippet: Comments**"
      ],
      "metadata": {
        "id": "uDd3EAnGKqcs"
      }
    },
    {
      "cell_type": "markdown",
      "source": [
        "    Single line comments"
      ],
      "metadata": {
        "id": "YOUePSc9LXlF"
      }
    },
    {
      "cell_type": "code",
      "execution_count": 1,
      "metadata": {
        "colab": {
          "base_uri": "https://localhost:8080/"
        },
        "id": "2fN8Rh-iKfKL",
        "outputId": "98d362e0-936f-493c-cbf3-07f51e75b674"
      },
      "outputs": [
        {
          "output_type": "stream",
          "name": "stdout",
          "text": [
            "Hello World\n"
          ]
        }
      ],
      "source": [
        "# This code is for printing hello world\n",
        "\n",
        "print('Hello World')"
      ]
    },
    {
      "cell_type": "code",
      "source": [
        "print('Hello World') # This code is for printing hello world"
      ],
      "metadata": {
        "colab": {
          "base_uri": "https://localhost:8080/"
        },
        "id": "Sflt4JbOKpiC",
        "outputId": "27a1c66b-5fec-4445-d942-702d1069e867"
      },
      "execution_count": 2,
      "outputs": [
        {
          "output_type": "stream",
          "name": "stdout",
          "text": [
            "Hello World\n"
          ]
        }
      ]
    },
    {
      "cell_type": "code",
      "source": [
        "# printing two lines and skipping first line\n",
        "\n",
        "#print('My name is Anusha')\n",
        "print('Hello everyone')"
      ],
      "metadata": {
        "colab": {
          "base_uri": "https://localhost:8080/"
        },
        "id": "mxn_tE_LLFUV",
        "outputId": "a7db04ab-2538-47bd-8802-e764b19f9a80"
      },
      "execution_count": 4,
      "outputs": [
        {
          "output_type": "stream",
          "name": "stdout",
          "text": [
            "Hello everyone\n"
          ]
        }
      ]
    },
    {
      "cell_type": "markdown",
      "source": [
        "    Multiple line comments"
      ],
      "metadata": {
        "id": "_7Hm2AutLbMl"
      }
    },
    {
      "cell_type": "code",
      "source": [
        "'''My name is Anusha\n",
        "This is my first code\n",
        "hello everyone'''\n",
        "\n",
        "print('hello world')"
      ],
      "metadata": {
        "colab": {
          "base_uri": "https://localhost:8080/"
        },
        "id": "i3bK14C6Ljf-",
        "outputId": "bc4a51e6-5e07-4efc-d5cd-27054cafac7f"
      },
      "execution_count": 5,
      "outputs": [
        {
          "output_type": "stream",
          "name": "stdout",
          "text": [
            "hello world\n"
          ]
        }
      ]
    }
  ]
}