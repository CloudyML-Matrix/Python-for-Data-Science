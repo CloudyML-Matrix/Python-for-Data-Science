{
  "nbformat": 4,
  "nbformat_minor": 0,
  "metadata": {
    "colab": {
      "provenance": []
    },
    "kernelspec": {
      "name": "python3",
      "display_name": "Python 3"
    },
    "language_info": {
      "name": "python"
    }
  },
  "cells": [
    {
      "cell_type": "markdown",
      "source": [
        "**Code Snippet 3: Arithmetic Operator**"
      ],
      "metadata": {
        "id": "ZAUyVdgXNZOW"
      }
    },
    {
      "cell_type": "code",
      "execution_count": 1,
      "metadata": {
        "colab": {
          "base_uri": "https://localhost:8080/"
        },
        "id": "EJDCJjIaNV6o",
        "outputId": "0d1f68ab-e817-4058-cc18-5a434eb5e0d0"
      },
      "outputs": [
        {
          "output_type": "stream",
          "name": "stdout",
          "text": [
            "15\n",
            "10\n"
          ]
        }
      ],
      "source": [
        "# Addition(+), Add two numbers\n",
        "\n",
        "a = 10\n",
        "b = 5\n",
        "result = a + b\n",
        "print(result)\n",
        "print(a)"
      ]
    },
    {
      "cell_type": "code",
      "source": [
        "# Subtraction(*), Subtract two numbers\n",
        "\n",
        "a = 10\n",
        "b = 5\n",
        "result = a - b\n",
        "print(result)\n",
        "print(b)"
      ],
      "metadata": {
        "colab": {
          "base_uri": "https://localhost:8080/"
        },
        "id": "Wq5NXXAXNvmW",
        "outputId": "e4873b66-9d14-45f2-ae09-5f220f8804d8"
      },
      "execution_count": 2,
      "outputs": [
        {
          "output_type": "stream",
          "name": "stdout",
          "text": [
            "5\n",
            "5\n"
          ]
        }
      ]
    },
    {
      "cell_type": "code",
      "source": [
        "# Multiplication(*), Multiply two numbers\n",
        "\n",
        "a = 10\n",
        "b = 5\n",
        "result = a * b\n",
        "print(result)"
      ],
      "metadata": {
        "colab": {
          "base_uri": "https://localhost:8080/"
        },
        "id": "khqIpcQNN689",
        "outputId": "61cd357a-11eb-4ee2-dc46-f1ad0062398b"
      },
      "execution_count": 3,
      "outputs": [
        {
          "output_type": "stream",
          "name": "stdout",
          "text": [
            "50\n",
            "10\n"
          ]
        }
      ]
    },
    {
      "cell_type": "code",
      "source": [
        "# Division(/), Divide two numbers\n",
        "# returns float\n",
        "\n",
        "a = 10\n",
        "b = 4\n",
        "result = a / b\n",
        "print(result)"
      ],
      "metadata": {
        "colab": {
          "base_uri": "https://localhost:8080/"
        },
        "id": "-pe4P-bxODH1",
        "outputId": "87918055-bde9-4ab3-b89c-99a742fa5567"
      },
      "execution_count": 6,
      "outputs": [
        {
          "output_type": "stream",
          "name": "stdout",
          "text": [
            "2.5\n"
          ]
        }
      ]
    },
    {
      "cell_type": "code",
      "source": [
        "# Modulus(%), Returns remainder when first number is divided by second number\n",
        "\n",
        "a = 10\n",
        "b = 4\n",
        "result = a % b\n",
        "print(result)"
      ],
      "metadata": {
        "colab": {
          "base_uri": "https://localhost:8080/"
        },
        "id": "r_AD6ZzLOS1l",
        "outputId": "8baced30-aad8-4a89-e281-ef43bf20bd91"
      },
      "execution_count": 7,
      "outputs": [
        {
          "output_type": "stream",
          "name": "stdout",
          "text": [
            "2\n"
          ]
        }
      ]
    },
    {
      "cell_type": "code",
      "source": [
        "# Exponentiation(**),Raises the first number to the power of second number\n",
        "\n",
        "a = 2\n",
        "b = 3\n",
        "result = a ** b\n",
        "print(result)"
      ],
      "metadata": {
        "colab": {
          "base_uri": "https://localhost:8080/"
        },
        "id": "OwfPMQuMOk6m",
        "outputId": "ffe5ab13-eba1-4c09-82c1-364fc9e52e20"
      },
      "execution_count": 9,
      "outputs": [
        {
          "output_type": "stream",
          "name": "stdout",
          "text": [
            "8\n"
          ]
        }
      ]
    },
    {
      "cell_type": "code",
      "source": [
        "# floor division(//), divides and returns the largest possible integer(floor value)\n",
        "\n",
        "a = 2\n",
        "b = 3\n",
        "result = a // b\n",
        "print(result)"
      ],
      "metadata": {
        "colab": {
          "base_uri": "https://localhost:8080/"
        },
        "id": "P79wJLzAPRsm",
        "outputId": "2acf1419-f4f7-4d40-d0ba-8d57a5e7af1f"
      },
      "execution_count": 11,
      "outputs": [
        {
          "output_type": "stream",
          "name": "stdout",
          "text": [
            "0\n"
          ]
        }
      ]
    },
    {
      "cell_type": "code",
      "source": [
        "# Comlpex expression\n",
        "\n",
        "a = 10\n",
        "b = 5\n",
        "c = 2\n",
        "result = (a+b)*c-b/c\n",
        "print(result)"
      ],
      "metadata": {
        "colab": {
          "base_uri": "https://localhost:8080/"
        },
        "id": "Gpi774KiP3Fv",
        "outputId": "68451e17-a605-4e53-c34d-c12aed7070ef"
      },
      "execution_count": 20,
      "outputs": [
        {
          "output_type": "stream",
          "name": "stdout",
          "text": [
            "27.5\n"
          ]
        }
      ]
    },
    {
      "cell_type": "markdown",
      "source": [
        "    Special Cases"
      ],
      "metadata": {
        "id": "QQrW08hSQXaO"
      }
    },
    {
      "cell_type": "code",
      "source": [
        "# to check if number is even or odd\n",
        "\n",
        "number = 7\n",
        "\n",
        "if number % 2 == 0:\n",
        "  print('number is even')\n",
        "else:\n",
        "  print('number is odd')"
      ],
      "metadata": {
        "colab": {
          "base_uri": "https://localhost:8080/"
        },
        "id": "1LuKXfmJQW13",
        "outputId": "cbc7a735-b1db-42fc-da34-6e0884929b7a"
      },
      "execution_count": 14,
      "outputs": [
        {
          "output_type": "stream",
          "name": "stdout",
          "text": [
            "number is odd\n"
          ]
        }
      ]
    },
    {
      "cell_type": "code",
      "source": [
        "# using floor division in loop\n",
        "\n",
        "items = 23\n",
        "box_capacity = 5\n",
        "\n",
        "full_boxes = items // box_capacity\n",
        "remaining_items = items % box_capacity\n",
        "\n",
        "print(f\"Full Boxes:{full_boxes}, Remaining Boxes:{remaining_items}\")\n"
      ],
      "metadata": {
        "colab": {
          "base_uri": "https://localhost:8080/"
        },
        "id": "1P8OxQqCQsxG",
        "outputId": "3039e151-a29e-4e4a-c127-48982db94f7f"
      },
      "execution_count": 17,
      "outputs": [
        {
          "output_type": "stream",
          "name": "stdout",
          "text": [
            "Full Boxes:4, Remaining Boxes:3\n"
          ]
        }
      ]
    }
  ]
}