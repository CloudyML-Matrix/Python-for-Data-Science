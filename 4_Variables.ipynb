{
  "nbformat": 4,
  "nbformat_minor": 0,
  "metadata": {
    "colab": {
      "provenance": []
    },
    "kernelspec": {
      "name": "python3",
      "display_name": "Python 3"
    },
    "language_info": {
      "name": "python"
    }
  },
  "cells": [
    {
      "cell_type": "markdown",
      "source": [
        "**Code Snippet 4: Variables**"
      ],
      "metadata": {
        "id": "Uj_Eyvw8jkUG"
      }
    },
    {
      "cell_type": "code",
      "execution_count": 1,
      "metadata": {
        "id": "u4NP5grrjXUY"
      },
      "outputs": [],
      "source": [
        "name = 'Anusha'\n",
        "age = 45\n",
        "price = 500"
      ]
    },
    {
      "cell_type": "code",
      "source": [
        "# update the age to 46\n",
        "\n",
        "age = 46"
      ],
      "metadata": {
        "id": "qW7yhVKskQVU"
      },
      "execution_count": 2,
      "outputs": []
    },
    {
      "cell_type": "code",
      "source": [
        "print(name)\n",
        "print('My age is:', age)"
      ],
      "metadata": {
        "colab": {
          "base_uri": "https://localhost:8080/"
        },
        "id": "UUyb181tjx9k",
        "outputId": "44d689df-b1e3-40a4-818b-9e540fc85c18"
      },
      "execution_count": 3,
      "outputs": [
        {
          "output_type": "stream",
          "name": "stdout",
          "text": [
            "Anusha\n",
            "My age is: 46\n"
          ]
        }
      ]
    },
    {
      "cell_type": "code",
      "source": [
        "# assign the value of a to b\n",
        "\n",
        "a = 3\n",
        "b = a\n",
        "print(a)\n",
        "print(b)"
      ],
      "metadata": {
        "colab": {
          "base_uri": "https://localhost:8080/"
        },
        "id": "7wSTTbv-kbLE",
        "outputId": "b19518c3-7a33-4ce8-bbf6-1a68a6c9791f"
      },
      "execution_count": 4,
      "outputs": [
        {
          "output_type": "stream",
          "name": "stdout",
          "text": [
            "3\n",
            "3\n"
          ]
        }
      ]
    }
  ]
}